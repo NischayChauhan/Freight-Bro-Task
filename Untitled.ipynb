{
 "cells": [
  {
   "cell_type": "code",
   "execution_count": 1,
   "metadata": {},
   "outputs": [],
   "source": [
    "import numpy as np\n",
    "import pandas as pd"
   ]
  },
  {
   "cell_type": "code",
   "execution_count": 2,
   "metadata": {},
   "outputs": [],
   "source": [
    "xls = './rate_sheet (1).xlsx'\n",
    "source = pd.read_excel(xls, 'Table 1')\n",
    "dest_1 = pd.read_excel(xls, 'Sheet2')\n",
    "dest_2 = pd.read_excel(xls, 'Sheet3')\n",
    "look = pd.read_excel('./lookup.xlsx')"
   ]
  },
  {
   "cell_type": "code",
   "execution_count": 3,
   "metadata": {},
   "outputs": [
    {
     "name": "stdout",
     "output_type": "stream",
     "text": [
      "(618, 3)\n"
     ]
    },
    {
     "data": {
      "text/html": [
       "<div>\n",
       "<style scoped>\n",
       "    .dataframe tbody tr th:only-of-type {\n",
       "        vertical-align: middle;\n",
       "    }\n",
       "\n",
       "    .dataframe tbody tr th {\n",
       "        vertical-align: top;\n",
       "    }\n",
       "\n",
       "    .dataframe thead th {\n",
       "        text-align: right;\n",
       "    }\n",
       "</style>\n",
       "<table border=\"1\" class=\"dataframe\">\n",
       "  <thead>\n",
       "    <tr style=\"text-align: right;\">\n",
       "      <th></th>\n",
       "      <th>PortName</th>\n",
       "      <th>PortCode</th>\n",
       "      <th>Country</th>\n",
       "    </tr>\n",
       "  </thead>\n",
       "  <tbody>\n",
       "    <tr>\n",
       "      <th>0</th>\n",
       "      <td>AALESUND</td>\n",
       "      <td>NOAES</td>\n",
       "      <td>NORWAY</td>\n",
       "    </tr>\n",
       "    <tr>\n",
       "      <th>1</th>\n",
       "      <td>AARHUS</td>\n",
       "      <td>DKAAR</td>\n",
       "      <td>DENMARK</td>\n",
       "    </tr>\n",
       "    <tr>\n",
       "      <th>2</th>\n",
       "      <td>ABIDJAN</td>\n",
       "      <td>CIABJ</td>\n",
       "      <td>COTE D'IVOIRE</td>\n",
       "    </tr>\n",
       "    <tr>\n",
       "      <th>3</th>\n",
       "      <td>ABU DHABI</td>\n",
       "      <td>AEAUH</td>\n",
       "      <td>UNITED ARAB EMIRATES</td>\n",
       "    </tr>\n",
       "    <tr>\n",
       "      <th>4</th>\n",
       "      <td>ACAJUTLA</td>\n",
       "      <td>SVAQJ</td>\n",
       "      <td>EL SALVADOR</td>\n",
       "    </tr>\n",
       "  </tbody>\n",
       "</table>\n",
       "</div>"
      ],
      "text/plain": [
       "    PortName PortCode               Country\n",
       "0   AALESUND    NOAES                NORWAY\n",
       "1     AARHUS    DKAAR               DENMARK\n",
       "2    ABIDJAN    CIABJ         COTE D'IVOIRE\n",
       "3  ABU DHABI    AEAUH  UNITED ARAB EMIRATES\n",
       "4   ACAJUTLA    SVAQJ           EL SALVADOR"
      ]
     },
     "execution_count": 3,
     "metadata": {},
     "output_type": "execute_result"
    }
   ],
   "source": [
    "print (look.shape)\n",
    "look.head()"
   ]
  },
  {
   "cell_type": "code",
   "execution_count": 4,
   "metadata": {},
   "outputs": [
    {
     "name": "stdout",
     "output_type": "stream",
     "text": [
      "(0, 2)\n"
     ]
    },
    {
     "data": {
      "text/html": [
       "<div>\n",
       "<style scoped>\n",
       "    .dataframe tbody tr th:only-of-type {\n",
       "        vertical-align: middle;\n",
       "    }\n",
       "\n",
       "    .dataframe tbody tr th {\n",
       "        vertical-align: top;\n",
       "    }\n",
       "\n",
       "    .dataframe thead th {\n",
       "        text-align: right;\n",
       "    }\n",
       "</style>\n",
       "<table border=\"1\" class=\"dataframe\">\n",
       "  <thead>\n",
       "    <tr style=\"text-align: right;\">\n",
       "      <th></th>\n",
       "      <th>Port Not Found</th>\n",
       "      <th>position</th>\n",
       "    </tr>\n",
       "  </thead>\n",
       "  <tbody>\n",
       "  </tbody>\n",
       "</table>\n",
       "</div>"
      ],
      "text/plain": [
       "Empty DataFrame\n",
       "Columns: [Port Not Found, position]\n",
       "Index: []"
      ]
     },
     "execution_count": 4,
     "metadata": {},
     "output_type": "execute_result"
    }
   ],
   "source": [
    "print (dest_1.shape)\n",
    "dest_1.head()"
   ]
  },
  {
   "cell_type": "code",
   "execution_count": 5,
   "metadata": {},
   "outputs": [
    {
     "name": "stdout",
     "output_type": "stream",
     "text": [
      "(3, 10)\n"
     ]
    },
    {
     "data": {
      "text/html": [
       "<div>\n",
       "<style scoped>\n",
       "    .dataframe tbody tr th:only-of-type {\n",
       "        vertical-align: middle;\n",
       "    }\n",
       "\n",
       "    .dataframe tbody tr th {\n",
       "        vertical-align: top;\n",
       "    }\n",
       "\n",
       "    .dataframe thead th {\n",
       "        text-align: right;\n",
       "    }\n",
       "</style>\n",
       "<table border=\"1\" class=\"dataframe\">\n",
       "  <thead>\n",
       "    <tr style=\"text-align: right;\">\n",
       "      <th></th>\n",
       "      <th>Sr, No</th>\n",
       "      <th>POL</th>\n",
       "      <th>POD</th>\n",
       "      <th>20ft</th>\n",
       "      <th>40ft</th>\n",
       "      <th>40HC</th>\n",
       "      <th>All Remarks</th>\n",
       "      <th>Trade</th>\n",
       "      <th>TT</th>\n",
       "      <th>Validity</th>\n",
       "    </tr>\n",
       "  </thead>\n",
       "  <tbody>\n",
       "    <tr>\n",
       "      <th>0</th>\n",
       "      <td>1</td>\n",
       "      <td>INNSA</td>\n",
       "      <td>DKAAL</td>\n",
       "      <td>994</td>\n",
       "      <td>1369</td>\n",
       "      <td>1369</td>\n",
       "      <td>EBS USD 55/TEU +ENS USD25 -Haz Surcharge - $10...</td>\n",
       "      <td>EPIC</td>\n",
       "      <td>33</td>\n",
       "      <td>08/31/2018</td>\n",
       "    </tr>\n",
       "    <tr>\n",
       "      <th>1</th>\n",
       "      <td>2</td>\n",
       "      <td>INMUN</td>\n",
       "      <td>DKAAL</td>\n",
       "      <td>994</td>\n",
       "      <td>1369</td>\n",
       "      <td>1369</td>\n",
       "      <td>EBS USD 55/TEU +ENS USD25 -Haz Surcharge - $10...</td>\n",
       "      <td>EPIC</td>\n",
       "      <td>33</td>\n",
       "      <td>08/31/2018</td>\n",
       "    </tr>\n",
       "    <tr>\n",
       "      <th>2</th>\n",
       "      <td>3</td>\n",
       "      <td>INHZR</td>\n",
       "      <td>DKAAL</td>\n",
       "      <td>994</td>\n",
       "      <td>1369</td>\n",
       "      <td>1369</td>\n",
       "      <td>EBS USD 55/TEU +ENS USD25 -Haz Surcharge - $10...</td>\n",
       "      <td>EPIC</td>\n",
       "      <td>33</td>\n",
       "      <td>08/31/2018</td>\n",
       "    </tr>\n",
       "  </tbody>\n",
       "</table>\n",
       "</div>"
      ],
      "text/plain": [
       "   Sr, No    POL    POD  20ft  40ft  40HC  \\\n",
       "0       1  INNSA  DKAAL   994  1369  1369   \n",
       "1       2  INMUN  DKAAL   994  1369  1369   \n",
       "2       3  INHZR  DKAAL   994  1369  1369   \n",
       "\n",
       "                                         All Remarks Trade  TT    Validity  \n",
       "0  EBS USD 55/TEU +ENS USD25 -Haz Surcharge - $10...  EPIC  33  08/31/2018  \n",
       "1  EBS USD 55/TEU +ENS USD25 -Haz Surcharge - $10...  EPIC  33  08/31/2018  \n",
       "2  EBS USD 55/TEU +ENS USD25 -Haz Surcharge - $10...  EPIC  33  08/31/2018  "
      ]
     },
     "execution_count": 5,
     "metadata": {},
     "output_type": "execute_result"
    }
   ],
   "source": [
    "print (dest_2.shape)\n",
    "dest_2.head()"
   ]
  },
  {
   "cell_type": "code",
   "execution_count": 6,
   "metadata": {},
   "outputs": [
    {
     "name": "stdout",
     "output_type": "stream",
     "text": [
      "<class 'list'>\n"
     ]
    },
    {
     "data": {
      "text/plain": [
       "False"
      ]
     },
     "execution_count": 6,
     "metadata": {},
     "output_type": "execute_result"
    }
   ],
   "source": [
    "a = [1,2,3]\n",
    "b = 4\n",
    "print (type(a))\n",
    "b in a"
   ]
  },
  {
   "cell_type": "code",
   "execution_count": 7,
   "metadata": {},
   "outputs": [],
   "source": [
    "def inLookUp(pol,pod):\n",
    "    look = pd.read_excel('./lookup.xlsx')\n",
    "    if(pol in list(look['PortName']) and pod in list(look['PortCode'])):\n",
    "        return 1\n",
    "    else:\n",
    "        return 0\n",
    "def code(pol):\n",
    "    look = pd.read_excel('./lookup.xlsx')\n",
    "    for i in range(look.shape[0]):\n",
    "        if(look.iloc[i]['PortName']==pol):\n",
    "            return look.iloc[i]['PortCode']\n",
    "    return -1\n",
    "def check(a,b):\n",
    "    for i in range(len(b)):\n",
    "        if(a[0][0]==b[i][0] and a[0][1]==b[i][1]):\n",
    "            return 1\n",
    "    return 0"
   ]
  },
  {
   "cell_type": "code",
   "execution_count": 8,
   "metadata": {},
   "outputs": [],
   "source": [
    "# print(inLookUp('NHAVA SHEVA','DKAAR'))\n",
    "# print(code('AARHUS'))\n",
    "# # check([['1','2']],)\n",
    "# check([['NHAVA SHVA','DENMARK']],dest_1_row)"
   ]
  },
  {
   "cell_type": "code",
   "execution_count": 9,
   "metadata": {
    "scrolled": true
   },
   "outputs": [
    {
     "name": "stdout",
     "output_type": "stream",
     "text": [
      "(68, 13)\n"
     ]
    },
    {
     "data": {
      "text/html": [
       "<div>\n",
       "<style scoped>\n",
       "    .dataframe tbody tr th:only-of-type {\n",
       "        vertical-align: middle;\n",
       "    }\n",
       "\n",
       "    .dataframe tbody tr th {\n",
       "        vertical-align: top;\n",
       "    }\n",
       "\n",
       "    .dataframe thead th {\n",
       "        text-align: right;\n",
       "    }\n",
       "</style>\n",
       "<table border=\"1\" class=\"dataframe\">\n",
       "  <thead>\n",
       "    <tr style=\"text-align: right;\">\n",
       "      <th></th>\n",
       "      <th>TRADE</th>\n",
       "      <th>POL</th>\n",
       "      <th>POD CODE</th>\n",
       "      <th>POD</th>\n",
       "      <th>Country</th>\n",
       "      <th>ROUTING</th>\n",
       "      <th>TT</th>\n",
       "      <th>20'Ft</th>\n",
       "      <th>40'Ft</th>\n",
       "      <th>40'HC</th>\n",
       "      <th>remarks</th>\n",
       "      <th>special remarks</th>\n",
       "      <th>VALIDITY</th>\n",
       "    </tr>\n",
       "  </thead>\n",
       "  <tbody>\n",
       "    <tr>\n",
       "      <th>0</th>\n",
       "      <td>EPIC</td>\n",
       "      <td>NHAVA SHEVA/MUNDRA/HAZIRA</td>\n",
       "      <td>DKAAL</td>\n",
       "      <td>AALBORG</td>\n",
       "      <td>DENMARK</td>\n",
       "      <td>HAMBURG</td>\n",
       "      <td>33</td>\n",
       "      <td>994</td>\n",
       "      <td>1369</td>\n",
       "      <td>1369</td>\n",
       "      <td>EBS USD 55/TEU +ENS USD25 -Haz Surcharge -\\n$1...</td>\n",
       "      <td>NaN</td>\n",
       "      <td>2018-08-31</td>\n",
       "    </tr>\n",
       "    <tr>\n",
       "      <th>1</th>\n",
       "      <td>EPIC</td>\n",
       "      <td>NHAVA SHEVA/MUNDRA/HAZIRA</td>\n",
       "      <td>DKAAR</td>\n",
       "      <td>AARHUS</td>\n",
       "      <td>DENMARK</td>\n",
       "      <td>HAMBURG</td>\n",
       "      <td>33</td>\n",
       "      <td>919</td>\n",
       "      <td>1269</td>\n",
       "      <td>1269</td>\n",
       "      <td>EBS USD 55/TEU +ENS USD25 -Haz Surcharge -\\n$1...</td>\n",
       "      <td>NaN</td>\n",
       "      <td>2018-08-31</td>\n",
       "    </tr>\n",
       "    <tr>\n",
       "      <th>2</th>\n",
       "      <td>EPIC</td>\n",
       "      <td>NHAVA SHEVA/MUNDRA/HAZIRA</td>\n",
       "      <td>CIABJ</td>\n",
       "      <td>Abidjan</td>\n",
       "      <td>IVORY COAST</td>\n",
       "      <td>TANGIERS</td>\n",
       "      <td>32</td>\n",
       "      <td>1469</td>\n",
       "      <td>2269</td>\n",
       "      <td>2269</td>\n",
       "      <td>EBS,ENS, THC. Haz $150/20st &amp; $300/40st. OT\\ni...</td>\n",
       "      <td>NaN</td>\n",
       "      <td>2018-08-15</td>\n",
       "    </tr>\n",
       "    <tr>\n",
       "      <th>3</th>\n",
       "      <td>GULF</td>\n",
       "      <td>HAZIRA</td>\n",
       "      <td>AEKHL</td>\n",
       "      <td>ABU DHABI</td>\n",
       "      <td>UAE</td>\n",
       "      <td>Direct</td>\n",
       "      <td>8</td>\n",
       "      <td>400</td>\n",
       "      <td>450</td>\n",
       "      <td>450</td>\n",
       "      <td>ISPS, SEAL,THCS + EBS</td>\n",
       "      <td>HAZ SEC USD 150/300 -- SP Equip sur. (ING) USD...</td>\n",
       "      <td>2018-08-31</td>\n",
       "    </tr>\n",
       "    <tr>\n",
       "      <th>4</th>\n",
       "      <td>GULF</td>\n",
       "      <td>MUNDRA</td>\n",
       "      <td>AEKHL</td>\n",
       "      <td>ABU DHABI</td>\n",
       "      <td>UAE</td>\n",
       "      <td>AEKLF</td>\n",
       "      <td>8</td>\n",
       "      <td>350</td>\n",
       "      <td>400</td>\n",
       "      <td>400</td>\n",
       "      <td>ISPS, SEAL,THCS + EBS</td>\n",
       "      <td>HAZ SEC USD 150/300 -- SP Equip sur. (ING) USD...</td>\n",
       "      <td>2018-08-31</td>\n",
       "    </tr>\n",
       "  </tbody>\n",
       "</table>\n",
       "</div>"
      ],
      "text/plain": [
       "  TRADE                       POL  POD CODE        POD      Country   ROUTING  \\\n",
       "0  EPIC  NHAVA SHEVA/MUNDRA/HAZIRA    DKAAL    AALBORG      DENMARK   HAMBURG   \n",
       "1  EPIC  NHAVA SHEVA/MUNDRA/HAZIRA    DKAAR     AARHUS      DENMARK   HAMBURG   \n",
       "2  EPIC  NHAVA SHEVA/MUNDRA/HAZIRA    CIABJ    Abidjan  IVORY COAST  TANGIERS   \n",
       "3  GULF                     HAZIRA    AEKHL  ABU DHABI          UAE    Direct   \n",
       "4  GULF                     MUNDRA    AEKHL  ABU DHABI          UAE     AEKLF   \n",
       "\n",
       "   TT  20'Ft  40'Ft  40'HC                                            remarks  \\\n",
       "0  33    994   1369   1369  EBS USD 55/TEU +ENS USD25 -Haz Surcharge -\\n$1...   \n",
       "1  33    919   1269   1269  EBS USD 55/TEU +ENS USD25 -Haz Surcharge -\\n$1...   \n",
       "2  32   1469   2269   2269  EBS,ENS, THC. Haz $150/20st & $300/40st. OT\\ni...   \n",
       "3   8    400    450    450                              ISPS, SEAL,THCS + EBS   \n",
       "4   8    350    400    400                              ISPS, SEAL,THCS + EBS   \n",
       "\n",
       "                                     special remarks   VALIDITY  \n",
       "0                                                NaN 2018-08-31  \n",
       "1                                                NaN 2018-08-31  \n",
       "2                                                NaN 2018-08-15  \n",
       "3  HAZ SEC USD 150/300 -- SP Equip sur. (ING) USD... 2018-08-31  \n",
       "4  HAZ SEC USD 150/300 -- SP Equip sur. (ING) USD... 2018-08-31  "
      ]
     },
     "execution_count": 9,
     "metadata": {},
     "output_type": "execute_result"
    }
   ],
   "source": [
    "print (source.shape)\n",
    "source.head()"
   ]
  },
  {
   "cell_type": "code",
   "execution_count": 10,
   "metadata": {
    "scrolled": false
   },
   "outputs": [
    {
     "name": "stdout",
     "output_type": "stream",
     "text": [
      "(91, 10)\n",
      "(104, 2)\n"
     ]
    }
   ],
   "source": [
    "index = 1\n",
    "dest_2_row = []\n",
    "dest_1_row = []\n",
    "for i in range(source.shape[0]):\n",
    "    data = source.iloc[i,:]\n",
    "    #print (data.shape)\n",
    "    POL = data[1]\n",
    "    POL = POL.split('/')\n",
    "    pod = data[2]\n",
    "    pod_name = data[3]\n",
    "    country = data[4]\n",
    "    tft = data[7]\n",
    "    fft = data[8]\n",
    "    fhc = data[9]\n",
    "    rem = str(data[10])+str(data[11])\n",
    "    trade = data[0]\n",
    "    tt = data[6]\n",
    "    valid = data[12].date().strftime('%m/%d/%Y')\n",
    "    \n",
    "    for pol in POL:\n",
    "        if(inLookUp(pol,pod)):\n",
    "            pol_code = code(pol)\n",
    "            #Write in dest_2\n",
    "            #print (pol,pod)\n",
    "            dest_2_row += [[index,pol_code,pod,tft,fft,fhc,rem,trade,tt,valid]];\n",
    "            #print (dest_2_row)\n",
    "            index += 1;\n",
    "        else:\n",
    "            #write in dest_1\n",
    "            #print (pol)\n",
    "            #print (pod)\n",
    "            if(check([[pol,country]],dest_1_row)==0):\n",
    "                dest_1_row += [[pol,i+1]];\n",
    "            if(check([[pod,country]],dest_1_row)==0):\n",
    "                dest_1_row += [[pod,i+1]];\n",
    "    #break\n",
    "            #print (\"_\")\n",
    "        #print (\"___\")\n",
    "#         if(flag==0):\n",
    "#             dest_1_row += [[pod,country]];\n",
    "\n",
    "            \n",
    "dest_2_row =  pd.DataFrame(dest_2_row)\n",
    "dest_1_row =  pd.DataFrame(dest_1_row)\n",
    "print (dest_2_row.shape)\n",
    "print (dest_1_row.shape)\n",
    "dest_2_row.columns = ['Sr, No','POL','POD','20ft','40ft','40HC','All Remarks','Trade','TT','Validity'];\n",
    "dest_1_row.columns = ['Port Not Found','position'];"
   ]
  },
  {
   "cell_type": "code",
   "execution_count": 11,
   "metadata": {},
   "outputs": [
    {
     "name": "stdout",
     "output_type": "stream",
     "text": [
      "(104, 2)\n",
      "(91, 10)\n"
     ]
    }
   ],
   "source": [
    "print (dest_1_row.shape)\n",
    "print (dest_2_row.shape)"
   ]
  },
  {
   "cell_type": "code",
   "execution_count": 267,
   "metadata": {},
   "outputs": [],
   "source": [
    "dest_1_row.to_excel('./missing_port.xlsx',index=0)\n",
    "dest_2_row.to_excel('./result.xlsx',index=0)"
   ]
  },
  {
   "cell_type": "code",
   "execution_count": 218,
   "metadata": {},
   "outputs": [
    {
     "data": {
      "text/plain": [
       "0"
      ]
     },
     "execution_count": 218,
     "metadata": {},
     "output_type": "execute_result"
    }
   ],
   "source": []
  },
  {
   "cell_type": "code",
   "execution_count": 266,
   "metadata": {},
   "outputs": [],
   "source": [
    "# dest_1_row"
   ]
  },
  {
   "cell_type": "code",
   "execution_count": null,
   "metadata": {},
   "outputs": [],
   "source": []
  }
 ],
 "metadata": {
  "kernelspec": {
   "display_name": "Python 3",
   "language": "python",
   "name": "python3"
  },
  "language_info": {
   "codemirror_mode": {
    "name": "ipython",
    "version": 3
   },
   "file_extension": ".py",
   "mimetype": "text/x-python",
   "name": "python",
   "nbconvert_exporter": "python",
   "pygments_lexer": "ipython3",
   "version": "3.6.2"
  }
 },
 "nbformat": 4,
 "nbformat_minor": 2
}
